{
  "nbformat": 4,
  "nbformat_minor": 0,
  "metadata": {
    "colab": {
      "provenance": [],
      "authorship_tag": "ABX9TyMbOBs5Owx50Df08VhvjAAm",
      "include_colab_link": true
    },
    "kernelspec": {
      "name": "python3",
      "display_name": "Python 3"
    },
    "language_info": {
      "name": "python"
    }
  },
  "cells": [
    {
      "cell_type": "markdown",
      "metadata": {
        "id": "view-in-github",
        "colab_type": "text"
      },
      "source": [
        "<a href=\"https://colab.research.google.com/github/feliperibeirospn/projeto_alura_2024/blob/main/projetoalura.ipynb\" target=\"_parent\"><img src=\"https://colab.research.google.com/assets/colab-badge.svg\" alt=\"Open In Colab\"/></a>"
      ]
    },
    {
      "cell_type": "code",
      "execution_count": null,
      "metadata": {
        "id": "nObNJSSs0qF2"
      },
      "outputs": [],
      "source": [
        "!pip install -q -U google-generativeai"
      ]
    },
    {
      "cell_type": "code",
      "source": [
        "# Import the Python SDK\n",
        "import google.generativeai as genai\n",
        "from google.colab import userdata\n",
        "api_key = userdata.get('SECRET_KEY')\n",
        "genai.configure(api_key=api_key)\n",
        "import textwrap\n",
        "from IPython.display import display, Markdown\n",
        "from google.colab import userdata"
      ],
      "metadata": {
        "id": "RhMNOxGw03y8"
      },
      "execution_count": 4,
      "outputs": []
    },
    {
      "cell_type": "markdown",
      "source": [
        "lISTAR OS MODELOS DISPONIVEIS"
      ],
      "metadata": {
        "id": "N7Ok7O_q15eX"
      }
    },
    {
      "cell_type": "code",
      "source": [
        "for m in genai.list_models():\n",
        "  if 'generateContent' in m.supported_generation_methods:\n",
        "    print(m.name)"
      ],
      "metadata": {
        "colab": {
          "base_uri": "https://localhost:8080/",
          "height": 138
        },
        "id": "_ExE174H19FW",
        "outputId": "748d655e-352a-4af9-86d5-e03954e3fb4f"
      },
      "execution_count": 5,
      "outputs": [
        {
          "output_type": "stream",
          "name": "stdout",
          "text": [
            "models/gemini-1.0-pro\n",
            "models/gemini-1.0-pro-001\n",
            "models/gemini-1.0-pro-latest\n",
            "models/gemini-1.0-pro-vision-latest\n",
            "models/gemini-1.5-pro-latest\n",
            "models/gemini-pro\n",
            "models/gemini-pro-vision\n"
          ]
        }
      ]
    },
    {
      "cell_type": "code",
      "source": [
        "generation_config = {\n",
        "    \"candidate_count\":1,\n",
        "    \"temperature\":0.5,\n",
        "}"
      ],
      "metadata": {
        "id": "IwGk9jdn2SaU"
      },
      "execution_count": 8,
      "outputs": []
    },
    {
      "cell_type": "code",
      "source": [
        "safety_settings = {\n",
        "    \"HARASSMENT\": \"BLOCK_NONE\",\n",
        "    \"HATE\":\"BLOCK_NONE\",\n",
        "    \"SEXUAL\" : \"BLOCK_NONE\",\n",
        "    \"DANGEROUS\": \"BLOCK_NONE\",\n",
        "}"
      ],
      "metadata": {
        "id": "tCO_0IJ32d_Q"
      },
      "execution_count": 9,
      "outputs": []
    },
    {
      "cell_type": "markdown",
      "source": [
        "INICIALIZANDO MODELO\n"
      ],
      "metadata": {
        "id": "uCpCSYmm21im"
      }
    },
    {
      "cell_type": "code",
      "source": [
        "model = genai.GenerativeModel(model_name=\"gemini-1.0-pro\",generation_config=generation_config,safety_settings = safety_settings)"
      ],
      "metadata": {
        "id": "50y4YBBT24UV"
      },
      "execution_count": 10,
      "outputs": []
    },
    {
      "cell_type": "code",
      "source": [
        "\n",
        "response = model.generate_content(\"Como ficar rico na internet\")\n",
        "print(response.text)"
      ],
      "metadata": {
        "id": "eNU7Rfm-3naj"
      },
      "execution_count": null,
      "outputs": []
    },
    {
      "cell_type": "code",
      "source": [
        "chat = model.start_chat(history=[])"
      ],
      "metadata": {
        "id": "aLMlv1iv35Gr"
      },
      "execution_count": 11,
      "outputs": []
    },
    {
      "cell_type": "code",
      "source": [
        "def avaliar_nivel(idioma):\n",
        "    perguntas = {\n",
        "        \"iniciante\": [\n",
        "            f\"Você conhece alguma palavra em {idioma}?\",\n",
        "            f\"Você sabe dizer 'olá' e 'tchau' em {idioma}?\"\n",
        "        ],\n",
        "        \"intermediario\": [\n",
        "            f\"Você consegue formar frases simples em {idioma}?\",\n",
        "            f\"Você consegue se apresentar em {idioma}?\"\n",
        "        ],\n",
        "        \"avancado\": [\n",
        "            f\"Você consegue entender um artigo de jornal em {idioma}?\",\n",
        "            f\"Você consegue manter uma conversa em {idioma}?\"\n",
        "        ]\n",
        "    }\n",
        "    nivel = \"iniciante\"\n",
        "    for p in perguntas[nivel]:\n",
        "        resposta = input(p + \" (sim/não): \")\n",
        "        if resposta.lower() == \"sim\":\n",
        "            nivel = \"intermediario\"\n",
        "            break\n",
        "    if nivel == \"intermediario\":\n",
        "        for p in perguntas[nivel]:\n",
        "            resposta = input(p + \" (sim/não): \")\n",
        "            if resposta.lower() == \"sim\":\n",
        "                nivel = \"avancado\"\n",
        "                break\n",
        "    return nivel\n",
        "\n",
        "# Função para contar uma história usando o modelo de linguagem generativa\n",
        "def contar_historia_llm(idioma, nivel):\n",
        "    prompt = f\"Crie uma história infantil curta em {idioma}, adequada para um nível {nivel}, cada frase trazendo a tradução e mostrando palavras importantes, fale comigo em portugues brasil e mantenha o padrão idioma abaixo portugues brasil\"\n",
        "    response = model.generate_content(prompt)\n",
        "    display(Markdown(f\"**História:**\\n\\n{response.text}\"))\n",
        "    print(\"\\n\\n---\\n\\n\")\n",
        "    print(\"Essa história pode ter ajudado a melhorar seu vocabulário e compreensão do idioma!\")\n",
        "\n",
        "\n",
        "# Fluxo principal\n",
        "idioma_escolhido = input(\"Qual idioma você gostaria de aprender? \")\n",
        "nivel_usuario = avaliar_nivel(idioma_escolhido)\n",
        "\n",
        "while True:\n",
        "    opcao = input(\"Escolha uma opção: (1) História,(2) Sair: \")\n",
        "    if opcao == \"1\":\n",
        "        contar_historia_llm(idioma_escolhido, nivel_usuario)\n",
        "    elif opcao == \"2\":\n",
        "        break\n",
        "    else:\n",
        "        print(\"Opção inválida.\")"
      ],
      "metadata": {
        "id": "EMw4BEyo4IZZ",
        "colab": {
          "base_uri": "https://localhost:8080/",
          "height": 692
        },
        "outputId": "82fac720-3964-4e79-e853-b7e28d02e758"
      },
      "execution_count": 20,
      "outputs": [
        {
          "name": "stdout",
          "output_type": "stream",
          "text": [
            "Qual idioma você gostaria de aprender? espanhol\n",
            "Você conhece alguma palavra em espanhol? (sim/não): sim\n",
            "Você consegue formar frases simples em espanhol? (sim/não): nao\n",
            "Você consegue se apresentar em espanhol? (sim/não): nao\n",
            "Escolha uma opção: (1) História,(2) Sair: 1\n"
          ]
        },
        {
          "output_type": "display_data",
          "data": {
            "text/plain": [
              "<IPython.core.display.Markdown object>"
            ],
            "text/markdown": "**História:**\n\n**História Infantil Curta em Espanhol**\n\n**Título:** El Conejo y el León\n\n**Tradução:** O Coelho e o Leão\n\n**Palavras Importantes:**\n\n* Conejo - Coelho\n* León - Leão\n* Bosque - Floresta\n* Rugido - Rugido\n* Asustado - Assustado\n\n**História:**\n\nUn día, un conejo saltaba alegremente por el bosque cuando escuchó un fuerte rugido. (Um dia, um coelho saltava alegremente pela floresta quando ouviu um forte rugido.)\n\nAsustado, el conejo se escondió detrás de un árbol. (Assustado, o coelho se escondeu atrás de uma árvore.)\n\nDe repente, vio un enorme león acercándose. (De repente, ele viu um enorme leão se aproximando.)\n\nEl conejo temblaba de miedo. (O coelho tremia de medo.)\n\n\"¿Qué haces aquí, pequeño conejo?\", preguntó el león. (\"O que você faz aqui, pequeno coelho?\", perguntou o leão.)\n\n\"Solo saltaba, señor león\", respondió el conejo. (\"Apenas saltava, senhor leão\", respondeu o coelho.)\n\nEl león sonrió. \"No te preocupes, no te haré daño\", dijo. (\"Não se preocupe, não vou lhe machucar\", disse ele.)\n\nEl conejo se sintió aliviado. (O coelho se sentiu aliviado.)\n\nDesde ese día, el conejo y el león se hicieron amigos. (Desde aquele dia, o coelho e o leão se tornaram amigos.)"
          },
          "metadata": {}
        },
        {
          "name": "stdout",
          "output_type": "stream",
          "text": [
            "\n",
            "\n",
            "---\n",
            "\n",
            "\n",
            "Essa história pode ter ajudado a melhorar seu vocabulário e compreensão do idioma!\n",
            "Escolha uma opção: (1) História,(2) Sair: 2\n"
          ]
        }
      ]
    }
  ]
}