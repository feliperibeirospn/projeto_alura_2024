{
  "nbformat": 4,
  "nbformat_minor": 0,
  "metadata": {
    "colab": {
      "provenance": [],
      "authorship_tag": "ABX9TyMNz1GIfAhdYCfIS6LY/WnS",
      "include_colab_link": true
    },
    "kernelspec": {
      "name": "python3",
      "display_name": "Python 3"
    },
    "language_info": {
      "name": "python"
    }
  },
  "cells": [
    {
      "cell_type": "markdown",
      "metadata": {
        "id": "view-in-github",
        "colab_type": "text"
      },
      "source": [
        "<a href=\"https://colab.research.google.com/github/feliperibeirospn/projeto_alura_2024/blob/main/projetoalura.ipynb\" target=\"_parent\"><img src=\"https://colab.research.google.com/assets/colab-badge.svg\" alt=\"Open In Colab\"/></a>"
      ]
    },
    {
      "cell_type": "code",
      "execution_count": null,
      "metadata": {
        "id": "nObNJSSs0qF2"
      },
      "outputs": [],
      "source": [
        "!pip install -q -U google-generativeai"
      ]
    },
    {
      "cell_type": "code",
      "source": [
        "# Import the Python SDK\n",
        "import google.generativeai as genai\n",
        "from google.colab import userdata\n",
        "api_key = userdata.get('SECRET_KEY')\n",
        "genai.configure(api_key=api_key)\n",
        "import textwrap\n",
        "from IPython.display import display, Markdown\n",
        "from google.colab import userdata"
      ],
      "metadata": {
        "id": "RhMNOxGw03y8"
      },
      "execution_count": 4,
      "outputs": []
    },
    {
      "cell_type": "markdown",
      "source": [
        "lISTAR OS MODELOS DISPONIVEIS"
      ],
      "metadata": {
        "id": "N7Ok7O_q15eX"
      }
    },
    {
      "cell_type": "code",
      "source": [
        "for m in genai.list_models():\n",
        "  if 'generateContent' in m.supported_generation_methods:\n",
        "    print(m.name)"
      ],
      "metadata": {
        "colab": {
          "base_uri": "https://localhost:8080/",
          "height": 138
        },
        "id": "_ExE174H19FW",
        "outputId": "748d655e-352a-4af9-86d5-e03954e3fb4f"
      },
      "execution_count": 5,
      "outputs": [
        {
          "output_type": "stream",
          "name": "stdout",
          "text": [
            "models/gemini-1.0-pro\n",
            "models/gemini-1.0-pro-001\n",
            "models/gemini-1.0-pro-latest\n",
            "models/gemini-1.0-pro-vision-latest\n",
            "models/gemini-1.5-pro-latest\n",
            "models/gemini-pro\n",
            "models/gemini-pro-vision\n"
          ]
        }
      ]
    },
    {
      "cell_type": "code",
      "source": [
        "generation_config = {\n",
        "    \"candidate_count\":1,\n",
        "    \"temperature\":0.5,\n",
        "}"
      ],
      "metadata": {
        "id": "IwGk9jdn2SaU"
      },
      "execution_count": 8,
      "outputs": []
    },
    {
      "cell_type": "code",
      "source": [
        "safety_settings = {\n",
        "    \"HARASSMENT\": \"BLOCK_NONE\",\n",
        "    \"HATE\":\"BLOCK_NONE\",\n",
        "    \"SEXUAL\" : \"BLOCK_NONE\",\n",
        "    \"DANGEROUS\": \"BLOCK_NONE\",\n",
        "}"
      ],
      "metadata": {
        "id": "tCO_0IJ32d_Q"
      },
      "execution_count": 9,
      "outputs": []
    },
    {
      "cell_type": "markdown",
      "source": [
        "INICIALIZANDO MODELO\n"
      ],
      "metadata": {
        "id": "uCpCSYmm21im"
      }
    },
    {
      "cell_type": "code",
      "source": [
        "model = genai.GenerativeModel(model_name=\"gemini-1.0-pro\",generation_config=generation_config,safety_settings = safety_settings)"
      ],
      "metadata": {
        "id": "50y4YBBT24UV"
      },
      "execution_count": 10,
      "outputs": []
    },
    {
      "cell_type": "code",
      "source": [
        "\n",
        "response = model.generate_content(\"Como ficar rico na internet\")\n",
        "print(response.text)"
      ],
      "metadata": {
        "id": "eNU7Rfm-3naj"
      },
      "execution_count": null,
      "outputs": []
    },
    {
      "cell_type": "code",
      "source": [
        "chat = model.start_chat(history=[])"
      ],
      "metadata": {
        "id": "aLMlv1iv35Gr"
      },
      "execution_count": 11,
      "outputs": []
    },
    {
      "cell_type": "code",
      "source": [
        "def avaliar_nivel(idioma):\n",
        "    perguntas = {\n",
        "        \"iniciante\": [\n",
        "            f\"Você conhece alguma palavra em {idioma}?\",\n",
        "            f\"Você sabe dizer 'olá' e 'tchau' em {idioma}?\"\n",
        "        ],\n",
        "        \"intermediario\": [\n",
        "            f\"Você consegue formar frases simples em {idioma}?\",\n",
        "            f\"Você consegue se apresentar em {idioma}?\"\n",
        "        ],\n",
        "        \"avancado\": [\n",
        "            f\"Você consegue entender um artigo de jornal em {idioma}?\",\n",
        "            f\"Você consegue manter uma conversa em {idioma}?\"\n",
        "        ]\n",
        "    }\n",
        "    nivel = \"iniciante\"\n",
        "    for p in perguntas[nivel]:\n",
        "        resposta = input(p + \" (sim/não): \")\n",
        "        if resposta.lower() == \"sim\":\n",
        "            nivel = \"intermediario\"\n",
        "            break\n",
        "    if nivel == \"intermediario\":\n",
        "        for p in perguntas[nivel]:\n",
        "            resposta = input(p + \" (sim/não): \")\n",
        "            if resposta.lower() == \"sim\":\n",
        "                nivel = \"avancado\"\n",
        "                break\n",
        "    return nivel\n",
        "\n",
        "# Função para contar uma história usando o modelo de linguagem generativa\n",
        "def contar_historia_llm(idioma, nivel):\n",
        "    prompt = f\"Crie uma história infantil curta em {idioma}, adequada para um nível {nivel}, trazendo o texto a cada frase trazendo a tradução e mostrando pontos importantes, fale comigo em portugues brasil\"\n",
        "    response = model.generate_content(prompt)\n",
        "    display(Markdown(f\"**História:**\\n\\n{response.text}\"))\n",
        "    print(\"\\n\\n---\\n\\n\")\n",
        "    print(\"Essa história pode ter ajudado a melhorar seu vocabulário e compreensão do idioma!\")\n",
        "\n",
        "\n",
        "# Fluxo principal\n",
        "idioma_escolhido = input(\"Qual idioma você gostaria de aprender? \")\n",
        "nivel_usuario = avaliar_nivel(idioma_escolhido)\n",
        "\n",
        "while True:\n",
        "    opcao = input(\"Escolha uma opção: (1) História,(2) Sair: \")\n",
        "    if opcao == \"1\":\n",
        "        contar_historia_llm(idioma_escolhido, nivel_usuario)\n",
        "    elif opcao == \"2\":\n",
        "        break\n",
        "    else:\n",
        "        print(\"Opção inválida.\")"
      ],
      "metadata": {
        "id": "EMw4BEyo4IZZ",
        "colab": {
          "base_uri": "https://localhost:8080/",
          "height": 1000
        },
        "outputId": "8b03f0a0-7461-40cc-dce9-8c8d1d663f29"
      },
      "execution_count": 17,
      "outputs": [
        {
          "name": "stdout",
          "output_type": "stream",
          "text": [
            "Qual idioma você gostaria de aprender? espanhol\n",
            "Você conhece alguma palavra em espanhol? (sim/não): sim\n",
            "Você consegue formar frases simples em espanhol? (sim/não): nao\n",
            "Você consegue se apresentar em espanhol? (sim/não): nao\n",
            "Escolha uma opção: (1) História,(2) Sair: 1\n"
          ]
        },
        {
          "output_type": "display_data",
          "data": {
            "text/plain": [
              "<IPython.core.display.Markdown object>"
            ],
            "text/markdown": "**História:**\n\n**História Infantil em Espanhol (Nível Intermediário)**\n\n**El Conejito y la Zanahoria**\n\n**Texto:**\n\nÉrase una vez un conejito muy travieso llamado Saltarín.\n\n**Tradução:**\n\nEra uma vez um coelho muito travesso chamado Saltarín.\n\n**Ponto importante:** O uso do pretérito imperfeito \"Érase una vez\" para indicar um tempo passado não especificado.\n\n**Texto:**\n\nUn día, mientras saltaba por el bosque, vio una zanahoria muy grande y jugosa.\n\n**Tradução:**\n\nUm dia, enquanto pulava pela floresta, ele viu uma cenoura muito grande e suculenta.\n\n**Ponto importante:** O uso do pretérito perfeito simples \"vio\" para indicar uma ação concluída no passado.\n\n**Texto:**\n\nSaltarín se acercó a la zanahoria y empezó a mordisquearla.\n\n**Tradução:**\n\nSaltarín se aproximou da cenoura e começou a mordiscá-la.\n\n**Ponto importante:** O uso do pretérito imperfeito contínuo \"empezó a mordisquearla\" para indicar uma ação que estava em andamento no passado.\n\n**Texto:**\n\nPero de repente, apareció un zorro astuto y se lanzó sobre Saltarín.\n\n**Tradução:**\n\nMas de repente, uma raposa astuta apareceu e se lançou sobre Saltarín.\n\n**Ponto importante:** O uso do pretérito perfeito simples \"apareció\" e \"se lanzó\" para indicar ações concluídas no passado que ocorreram em sequência.\n\n**Texto:**\n\nSaltarín saltó rápidamente y escapó del zorro.\n\n**Tradução:**\n\nSaltarín pulou rapidamente e escapou da raposa.\n\n**Ponto importante:** O uso do pretérito perfeito simples \"saltó\" e \"escapó\" para indicar ações concluídas no passado que ocorreram em sequência.\n\n**Texto:**\n\nY así, Saltarín aprendió que no debía ser tan travieso y que siempre debía estar atento a los peligros que lo rodeaban.\n\n**Tradução:**\n\nE assim, Saltarín aprendeu que não deveria ser tão travesso e que sempre deveria estar atento aos perigos que o cercavam.\n\n**Ponto importante:** O uso do pretérito perfeito simples \"aprendió\" para indicar uma ação concluída no passado que tem um impacto no presente."
          },
          "metadata": {}
        },
        {
          "output_type": "stream",
          "name": "stdout",
          "text": [
            "\n",
            "\n",
            "---\n",
            "\n",
            "\n",
            "Essa história pode ter ajudado a melhorar seu vocabulário e compreensão do idioma!\n"
          ]
        },
        {
          "output_type": "error",
          "ename": "KeyboardInterrupt",
          "evalue": "Interrupted by user",
          "traceback": [
            "\u001b[0;31m---------------------------------------------------------------------------\u001b[0m",
            "\u001b[0;31mKeyboardInterrupt\u001b[0m                         Traceback (most recent call last)",
            "\u001b[0;32m<ipython-input-17-6d7796bbb83d>\u001b[0m in \u001b[0;36m<cell line: 43>\u001b[0;34m()\u001b[0m\n\u001b[1;32m     42\u001b[0m \u001b[0;34m\u001b[0m\u001b[0m\n\u001b[1;32m     43\u001b[0m \u001b[0;32mwhile\u001b[0m \u001b[0;32mTrue\u001b[0m\u001b[0;34m:\u001b[0m\u001b[0;34m\u001b[0m\u001b[0;34m\u001b[0m\u001b[0m\n\u001b[0;32m---> 44\u001b[0;31m     \u001b[0mopcao\u001b[0m \u001b[0;34m=\u001b[0m \u001b[0minput\u001b[0m\u001b[0;34m(\u001b[0m\u001b[0;34m\"Escolha uma opção: (1) História,(2) Sair: \"\u001b[0m\u001b[0;34m)\u001b[0m\u001b[0;34m\u001b[0m\u001b[0;34m\u001b[0m\u001b[0m\n\u001b[0m\u001b[1;32m     45\u001b[0m     \u001b[0;32mif\u001b[0m \u001b[0mopcao\u001b[0m \u001b[0;34m==\u001b[0m \u001b[0;34m\"1\"\u001b[0m\u001b[0;34m:\u001b[0m\u001b[0;34m\u001b[0m\u001b[0;34m\u001b[0m\u001b[0m\n\u001b[1;32m     46\u001b[0m         \u001b[0mcontar_historia_llm\u001b[0m\u001b[0;34m(\u001b[0m\u001b[0midioma_escolhido\u001b[0m\u001b[0;34m,\u001b[0m \u001b[0mnivel_usuario\u001b[0m\u001b[0;34m)\u001b[0m\u001b[0;34m\u001b[0m\u001b[0;34m\u001b[0m\u001b[0m\n",
            "\u001b[0;32m/usr/local/lib/python3.10/dist-packages/ipykernel/kernelbase.py\u001b[0m in \u001b[0;36mraw_input\u001b[0;34m(self, prompt)\u001b[0m\n\u001b[1;32m    849\u001b[0m                 \u001b[0;34m\"raw_input was called, but this frontend does not support input requests.\"\u001b[0m\u001b[0;34m\u001b[0m\u001b[0;34m\u001b[0m\u001b[0m\n\u001b[1;32m    850\u001b[0m             )\n\u001b[0;32m--> 851\u001b[0;31m         return self._input_request(str(prompt),\n\u001b[0m\u001b[1;32m    852\u001b[0m             \u001b[0mself\u001b[0m\u001b[0;34m.\u001b[0m\u001b[0m_parent_ident\u001b[0m\u001b[0;34m,\u001b[0m\u001b[0;34m\u001b[0m\u001b[0;34m\u001b[0m\u001b[0m\n\u001b[1;32m    853\u001b[0m             \u001b[0mself\u001b[0m\u001b[0;34m.\u001b[0m\u001b[0m_parent_header\u001b[0m\u001b[0;34m,\u001b[0m\u001b[0;34m\u001b[0m\u001b[0;34m\u001b[0m\u001b[0m\n",
            "\u001b[0;32m/usr/local/lib/python3.10/dist-packages/ipykernel/kernelbase.py\u001b[0m in \u001b[0;36m_input_request\u001b[0;34m(self, prompt, ident, parent, password)\u001b[0m\n\u001b[1;32m    893\u001b[0m             \u001b[0;32mexcept\u001b[0m \u001b[0mKeyboardInterrupt\u001b[0m\u001b[0;34m:\u001b[0m\u001b[0;34m\u001b[0m\u001b[0;34m\u001b[0m\u001b[0m\n\u001b[1;32m    894\u001b[0m                 \u001b[0;31m# re-raise KeyboardInterrupt, to truncate traceback\u001b[0m\u001b[0;34m\u001b[0m\u001b[0;34m\u001b[0m\u001b[0m\n\u001b[0;32m--> 895\u001b[0;31m                 \u001b[0;32mraise\u001b[0m \u001b[0mKeyboardInterrupt\u001b[0m\u001b[0;34m(\u001b[0m\u001b[0;34m\"Interrupted by user\"\u001b[0m\u001b[0;34m)\u001b[0m \u001b[0;32mfrom\u001b[0m \u001b[0;32mNone\u001b[0m\u001b[0;34m\u001b[0m\u001b[0;34m\u001b[0m\u001b[0m\n\u001b[0m\u001b[1;32m    896\u001b[0m             \u001b[0;32mexcept\u001b[0m \u001b[0mException\u001b[0m \u001b[0;32mas\u001b[0m \u001b[0me\u001b[0m\u001b[0;34m:\u001b[0m\u001b[0;34m\u001b[0m\u001b[0;34m\u001b[0m\u001b[0m\n\u001b[1;32m    897\u001b[0m                 \u001b[0mself\u001b[0m\u001b[0;34m.\u001b[0m\u001b[0mlog\u001b[0m\u001b[0;34m.\u001b[0m\u001b[0mwarning\u001b[0m\u001b[0;34m(\u001b[0m\u001b[0;34m\"Invalid Message:\"\u001b[0m\u001b[0;34m,\u001b[0m \u001b[0mexc_info\u001b[0m\u001b[0;34m=\u001b[0m\u001b[0;32mTrue\u001b[0m\u001b[0;34m)\u001b[0m\u001b[0;34m\u001b[0m\u001b[0;34m\u001b[0m\u001b[0m\n",
            "\u001b[0;31mKeyboardInterrupt\u001b[0m: Interrupted by user"
          ]
        }
      ]
    }
  ]
}